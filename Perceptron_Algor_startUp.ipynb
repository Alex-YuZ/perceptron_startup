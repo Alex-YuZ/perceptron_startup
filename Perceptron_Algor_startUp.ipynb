{
 "cells": [
  {
   "cell_type": "code",
   "execution_count": 1,
   "metadata": {},
   "outputs": [],
   "source": [
    "import os\n",
    "os.chdir(\"projects_on_GitHub/Machine_learning/perceptron_startup\")"
   ]
  },
  {
   "cell_type": "code",
   "execution_count": 2,
   "metadata": {},
   "outputs": [
    {
     "data": {
      "text/plain": [
       "'/Users/alejandrosanz/Downloads/projects_on_GitHub/Machine_learning/perceptron_startup'"
      ]
     },
     "execution_count": 2,
     "metadata": {},
     "output_type": "execute_result"
    }
   ],
   "source": [
    "pwd"
   ]
  },
  {
   "cell_type": "code",
   "execution_count": 4,
   "metadata": {},
   "outputs": [
    {
     "data": {
      "text/html": [
       "<div>\n",
       "<style scoped>\n",
       "    .dataframe tbody tr th:only-of-type {\n",
       "        vertical-align: middle;\n",
       "    }\n",
       "\n",
       "    .dataframe tbody tr th {\n",
       "        vertical-align: top;\n",
       "    }\n",
       "\n",
       "    .dataframe thead th {\n",
       "        text-align: right;\n",
       "    }\n",
       "</style>\n",
       "<table border=\"1\" class=\"dataframe\">\n",
       "  <thead>\n",
       "    <tr style=\"text-align: right;\">\n",
       "      <th></th>\n",
       "      <th>0</th>\n",
       "      <th>1</th>\n",
       "      <th>2</th>\n",
       "    </tr>\n",
       "  </thead>\n",
       "  <tbody>\n",
       "    <tr>\n",
       "      <th>0</th>\n",
       "      <td>0.78051</td>\n",
       "      <td>-0.063669</td>\n",
       "      <td>1</td>\n",
       "    </tr>\n",
       "    <tr>\n",
       "      <th>1</th>\n",
       "      <td>0.28774</td>\n",
       "      <td>0.291390</td>\n",
       "      <td>1</td>\n",
       "    </tr>\n",
       "    <tr>\n",
       "      <th>2</th>\n",
       "      <td>0.40714</td>\n",
       "      <td>0.178780</td>\n",
       "      <td>1</td>\n",
       "    </tr>\n",
       "    <tr>\n",
       "      <th>3</th>\n",
       "      <td>0.29230</td>\n",
       "      <td>0.421700</td>\n",
       "      <td>1</td>\n",
       "    </tr>\n",
       "    <tr>\n",
       "      <th>4</th>\n",
       "      <td>0.50922</td>\n",
       "      <td>0.352560</td>\n",
       "      <td>1</td>\n",
       "    </tr>\n",
       "  </tbody>\n",
       "</table>\n",
       "</div>"
      ],
      "text/plain": [
       "         0         1  2\n",
       "0  0.78051 -0.063669  1\n",
       "1  0.28774  0.291390  1\n",
       "2  0.40714  0.178780  1\n",
       "3  0.29230  0.421700  1\n",
       "4  0.50922  0.352560  1"
      ]
     },
     "execution_count": 4,
     "metadata": {},
     "output_type": "execute_result"
    }
   ],
   "source": [
    "data = pd.read_csv(\"data.csv\", header=None)\n",
    "data.head()"
   ]
  },
  {
   "cell_type": "code",
   "execution_count": 51,
   "metadata": {},
   "outputs": [],
   "source": [
    "X = data.iloc[:, :-1].values\n",
    "y = data.iloc[:, 2].values"
   ]
  },
  {
   "cell_type": "code",
   "execution_count": 37,
   "metadata": {},
   "outputs": [
    {
     "data": {
      "image/png": "[encoded data removed]",
      "text/plain": [
       "<Figure size 432x288 with 1 Axes>"
      ]
     },
     "metadata": {
      "needs_background": "light"
     },
     "output_type": "display_data"
    }
   ],
   "source": [
    "# visulize the datasets\n",
    "data_label0 = data.iloc[data.index[data[2]==0].tolist(), :-1]\n",
    "data_label1 = data.iloc[data.index[data[2]==1].tolist(), :-1]\n",
    "\n",
    "plt.scatter(data_label0.iloc[:, 0], data_label0.iloc[:, 1], s=50, color='red', edgecolor='black');\n",
    "plt.scatter(data_label1.iloc[:, 0], data_label1.iloc[:, 1], s=50, color='blue', edgecolor='black' );"
   ]
  },
  {
   "cell_type": "code",
   "execution_count": 42,
   "metadata": {},
   "outputs": [],
   "source": [
    "np.random.seed(40)\n",
    "\n",
    "# define the step function\n",
    "def stepFunction(t):\n",
    "    return int(t>0) "
   ]
  },
  {
   "cell_type": "code",
   "execution_count": 41,
   "metadata": {},
   "outputs": [
    {
     "data": {
      "text/plain": [
       "0"
      ]
     },
     "execution_count": 41,
     "metadata": {},
     "output_type": "execute_result"
    }
   ],
   "source": [
    "def prediction(X, W, b):\n",
    "    \"\"\"\n",
    "    Make predictions of '1' or '0' based on the result of linear combination.\n",
    "    \n",
    "    Params:\n",
    "    ------\n",
    "        X :a 1x2 numpy.ndarray. The coordinates of a single point.\n",
    "        W: a 2x1 numpy.ndarray. The weights to each feature of a point.\n",
    "        \n",
    "    Returns:\n",
    "    --------\n",
    "        1 or 0. Based on the stepFunction.\n",
    "        \n",
    "        \n",
    "    NOTES:\n",
    "        As the data type of the result from np.matmul() is a 1 dimentinal numpy.ndarray,\n",
    "        so we need to use index 0 to extract the inside element.\n",
    "    \n",
    "    \"\"\"\n",
    "    return stepFunction((np.matmul(X, W)+b)[0])"
   ]
  },
  {
   "cell_type": "code",
   "execution_count": null,
   "metadata": {},
   "outputs": [],
   "source": [
    "# perceptron step to update the weights based on all points in 'just one' iteration\n",
    "def perceptronStep(X, y, W, b, learn_rate = 0.01):\n",
    "    \"\"\"\n",
    "    Update weights and bias each time iterating the points.\n",
    "    \n",
    "    Parameters:\n",
    "    ----------\n",
    "        X: a nx2 numpy 2D array. Each entry represents a set of coordinates. \n",
    "           It represents the 0th and 1st column in data.csv.\n",
    "           \n",
    "        y: actual labels for the datapoints. It represents the 2nd column in data.csv\n",
    "        \n",
    "        W: a 2x1 2D numpy array. Weights for the linear equation.\n",
    "        \n",
    "        b: Bias value for the linear equation.\n",
    "        \n",
    "        learning_rate: float. small steps in changing weights and bias when necessary.\n",
    "     \n",
    "     Returns:\n",
    "        new weights and bias.    \n",
    "    \n",
    "    \"\"\"\n",
    "    for i in range(len(X)):\n",
    "        y_hat = prediction(X[i],W,b)\n",
    "        if y[i]-y_hat == 1:\n",
    "            W[0] += X[i][0]*learn_rate\n",
    "            W[1] += X[i][1]*learn_rate\n",
    "            b += learn_rate\n",
    "        elif y[i]-y_hat == -1:\n",
    "            W[0] -= X[i][0]*learn_rate\n",
    "            W[1] -= X[i][1]*learn_rate\n",
    "            b -= learn_rate\n",
    "    return W, b "
   ]
  }
 ],
 "metadata": {
  "kernelspec": {
   "display_name": "Python 3",
   "language": "python",
   "name": "python3"
  },
  "language_info": {
   "codemirror_mode": {
    "name": "ipython",
    "version": 3
   },
   "file_extension": ".py",
   "mimetype": "text/x-python",
   "name": "python",
   "nbconvert_exporter": "python",
   "pygments_lexer": "ipython3",
   "version": "3.7.9"
  }
 },
 "nbformat": 4,
 "nbformat_minor": 4
}
